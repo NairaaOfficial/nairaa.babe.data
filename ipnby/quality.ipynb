{
  "cells": [
    {
      "cell_type": "code",
      "execution_count": null,
      "metadata": {
        "colab": {
          "base_uri": "https://localhost:8080/",
          "height": 1000
        },
        "id": "9mbjifD57aok",
        "outputId": "47a8d405-7e14-40a6-c86b-399e642d256a"
      },
      "outputs": [],
      "source": [
        "\n",
        "# 1. Refer Input dataset\n",
        "!mkdir -p repo\n",
        "%cd repo\n",
        "!ls -lh /kaggle/working/repo\n",
        "\n",
        "# Relying on mounted dataset\n",
        "!ls -lh /kaggle/input/video-enhancing-data\n",
        "# Copy everything from dataset into working repo\n",
        "!cp -r /kaggle/input/video-enhancing-data/* .\n",
        "!ls -lh /kaggle/working/repo\n",
        "\n",
        "# 2. Read counter.txt\n",
        "with open(\"counter.txt\") as f:\n",
        "    video_number = f.read().strip()\n",
        "print(\"▶ Counter:\", video_number)\n",
        "\n",
        "# 3. Install dependencies\n",
        "!pip install basicsr facexlib gfpgan realesrgan\n",
        "!apt-get install -y ffmpeg imagemagick\n",
        "!python3 -m pip install --upgrade pip\n",
        "!pip install -r requirements.txt\n",
        "\n",
        "# 4. Run video enhancing\n",
        "!python3 /kaggle/working/repo/video_enhancer_quality/video_enhancer.py"
      ]
    }
  ],
  "metadata": {
    "accelerator": "GPU",
    "colab": {
      "gpuType": "T4",
      "provenance": []
    },
    "kernelspec": {
      "display_name": "Python 3",
      "name": "python3"
    },
    "language_info": {
      "name": "python"
    }
  },
  "nbformat": 4,
  "nbformat_minor": 0
}
